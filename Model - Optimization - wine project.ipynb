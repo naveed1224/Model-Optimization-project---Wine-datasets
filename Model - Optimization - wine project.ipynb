{
 "cells": [
  {
   "cell_type": "markdown",
   "metadata": {},
   "source": [
    "#Model Optimization Project - Wine"
   ]
  },
  {
   "cell_type": "code",
   "execution_count": 1,
   "metadata": {
    "_cell_guid": "b1076dfc-b9ad-4769-8c92-a6c4dae69d19",
    "_uuid": "8f2839f25d086af736a60e9eeb907d3b93b6e0e5"
   },
   "outputs": [
    {
     "name": "stdout",
     "output_type": "stream",
     "text": [
      "['winequalityN.csv']\n"
     ]
    }
   ],
   "source": [
    "import numpy as np\n",
    "import pandas as pd \n",
    "import os\n",
    "import numpy as np\n",
    "import pandas as pd  \n",
    "\n",
    "print(os.listdir(\"../input\"))"
   ]
  },
  {
   "cell_type": "code",
   "execution_count": null,
   "metadata": {},
   "outputs": [],
   "source": [
    "from sklearn.preprocessing import StandardScaler as ss\n",
    "from sklearn.decomposition import PCA\n",
    "\n",
    "\n",
    "from sklearn.model_selection import train_test_split\n",
    "from sklearn.model_selection import GridSearchCV                 \n",
    "from sklearn.model_selection import RandomizedSearchCV    "
   ]
  },
  {
   "cell_type": "code",
   "execution_count": 2,
   "metadata": {
    "_cell_guid": "79c7e3d0-c299-4dcb-8224-4455121ee9b0",
    "_uuid": "d629ff2d2480ee46fbb7e2d37f6b5fab8052498a"
   },
   "outputs": [],
   "source": [
    "from xgboost.sklearn import XGBClassifier\n",
    "\n",
    "\n",
    "from sklearn.pipeline import Pipeline\n",
    "from sklearn.pipeline import make_pipeline\n",
    "from sklearn.metrics import accuracy_score\n",
    "from sklearn.metrics import auc, roc_curve\n",
    "from sklearn.metrics import confusion_matrix\n",
    "import matplotlib.pyplot as plt\n",
    "from xgboost import plot_importance\n"
   ]
  },
  {
   "cell_type": "code",
   "execution_count": null,
   "metadata": {},
   "outputs": [],
   "source": [
    "#Bayes optimization\n",
    "\n",
    "from sklearn.model_selection import cross_val_score\n",
    "from bayes_opt import BayesianOptimization\n",
    "import eli5 as eli5\n",
    "from eli5.sklearn import PermutationImportance\n",
    "import time\n",
    "import gc\n",
    "import random\n",
    "from scipy.stats import uniform"
   ]
  },
  {
   "cell_type": "code",
   "execution_count": 3,
   "metadata": {},
   "outputs": [],
   "source": [
    "\n",
    "pd.set_option('display.max_columns', 100)"
   ]
  },
  {
   "cell_type": "code",
   "execution_count": 4,
   "metadata": {},
   "outputs": [],
   "source": [
    "#read tge csv fule\n",
    "df= pd.read_csv(\"../input/winequalityN.csv\")"
   ]
  },
  {
   "cell_type": "code",
   "execution_count": 5,
   "metadata": {},
   "outputs": [
    {
     "data": {
      "text/html": [
       "<div>\n",
       "<style scoped>\n",
       "    .dataframe tbody tr th:only-of-type {\n",
       "        vertical-align: middle;\n",
       "    }\n",
       "\n",
       "    .dataframe tbody tr th {\n",
       "        vertical-align: top;\n",
       "    }\n",
       "\n",
       "    .dataframe thead th {\n",
       "        text-align: right;\n",
       "    }\n",
       "</style>\n",
       "<table border=\"1\" class=\"dataframe\">\n",
       "  <thead>\n",
       "    <tr style=\"text-align: right;\">\n",
       "      <th></th>\n",
       "      <th>type</th>\n",
       "      <th>fixed acidity</th>\n",
       "      <th>volatile acidity</th>\n",
       "      <th>citric acid</th>\n",
       "      <th>residual sugar</th>\n",
       "      <th>chlorides</th>\n",
       "      <th>free sulfur dioxide</th>\n",
       "      <th>total sulfur dioxide</th>\n",
       "      <th>density</th>\n",
       "      <th>pH</th>\n",
       "      <th>sulphates</th>\n",
       "      <th>alcohol</th>\n",
       "      <th>quality</th>\n",
       "    </tr>\n",
       "  </thead>\n",
       "  <tbody>\n",
       "    <tr>\n",
       "      <th>0</th>\n",
       "      <td>white</td>\n",
       "      <td>7.0</td>\n",
       "      <td>0.27</td>\n",
       "      <td>0.36</td>\n",
       "      <td>20.7</td>\n",
       "      <td>0.045</td>\n",
       "      <td>45.0</td>\n",
       "      <td>170.0</td>\n",
       "      <td>1.0010</td>\n",
       "      <td>3.00</td>\n",
       "      <td>0.45</td>\n",
       "      <td>8.8</td>\n",
       "      <td>6</td>\n",
       "    </tr>\n",
       "    <tr>\n",
       "      <th>1</th>\n",
       "      <td>white</td>\n",
       "      <td>6.3</td>\n",
       "      <td>0.30</td>\n",
       "      <td>0.34</td>\n",
       "      <td>1.6</td>\n",
       "      <td>0.049</td>\n",
       "      <td>14.0</td>\n",
       "      <td>132.0</td>\n",
       "      <td>0.9940</td>\n",
       "      <td>3.30</td>\n",
       "      <td>0.49</td>\n",
       "      <td>9.5</td>\n",
       "      <td>6</td>\n",
       "    </tr>\n",
       "    <tr>\n",
       "      <th>2</th>\n",
       "      <td>white</td>\n",
       "      <td>8.1</td>\n",
       "      <td>0.28</td>\n",
       "      <td>0.40</td>\n",
       "      <td>6.9</td>\n",
       "      <td>0.050</td>\n",
       "      <td>30.0</td>\n",
       "      <td>97.0</td>\n",
       "      <td>0.9951</td>\n",
       "      <td>3.26</td>\n",
       "      <td>0.44</td>\n",
       "      <td>10.1</td>\n",
       "      <td>6</td>\n",
       "    </tr>\n",
       "    <tr>\n",
       "      <th>3</th>\n",
       "      <td>white</td>\n",
       "      <td>7.2</td>\n",
       "      <td>0.23</td>\n",
       "      <td>0.32</td>\n",
       "      <td>8.5</td>\n",
       "      <td>0.058</td>\n",
       "      <td>47.0</td>\n",
       "      <td>186.0</td>\n",
       "      <td>0.9956</td>\n",
       "      <td>3.19</td>\n",
       "      <td>0.40</td>\n",
       "      <td>9.9</td>\n",
       "      <td>6</td>\n",
       "    </tr>\n",
       "    <tr>\n",
       "      <th>4</th>\n",
       "      <td>white</td>\n",
       "      <td>7.2</td>\n",
       "      <td>0.23</td>\n",
       "      <td>0.32</td>\n",
       "      <td>8.5</td>\n",
       "      <td>0.058</td>\n",
       "      <td>47.0</td>\n",
       "      <td>186.0</td>\n",
       "      <td>0.9956</td>\n",
       "      <td>3.19</td>\n",
       "      <td>0.40</td>\n",
       "      <td>9.9</td>\n",
       "      <td>6</td>\n",
       "    </tr>\n",
       "  </tbody>\n",
       "</table>\n",
       "</div>"
      ],
      "text/plain": [
       "    type  fixed acidity  volatile acidity  citric acid  residual sugar  \\\n",
       "0  white            7.0              0.27         0.36            20.7   \n",
       "1  white            6.3              0.30         0.34             1.6   \n",
       "2  white            8.1              0.28         0.40             6.9   \n",
       "3  white            7.2              0.23         0.32             8.5   \n",
       "4  white            7.2              0.23         0.32             8.5   \n",
       "\n",
       "   chlorides  free sulfur dioxide  total sulfur dioxide  density    pH  \\\n",
       "0      0.045                 45.0                 170.0   1.0010  3.00   \n",
       "1      0.049                 14.0                 132.0   0.9940  3.30   \n",
       "2      0.050                 30.0                  97.0   0.9951  3.26   \n",
       "3      0.058                 47.0                 186.0   0.9956  3.19   \n",
       "4      0.058                 47.0                 186.0   0.9956  3.19   \n",
       "\n",
       "   sulphates  alcohol  quality  \n",
       "0       0.45      8.8        6  \n",
       "1       0.49      9.5        6  \n",
       "2       0.44     10.1        6  \n",
       "3       0.40      9.9        6  \n",
       "4       0.40      9.9        6  "
      ]
     },
     "execution_count": 5,
     "metadata": {},
     "output_type": "execute_result"
    }
   ],
   "source": [
    "#view data\n",
    "df.head()"
   ]
  },
  {
   "cell_type": "code",
   "execution_count": 6,
   "metadata": {},
   "outputs": [
    {
     "name": "stdout",
     "output_type": "stream",
     "text": [
      "<class 'pandas.core.frame.DataFrame'>\n",
      "RangeIndex: 6497 entries, 0 to 6496\n",
      "Data columns (total 13 columns):\n",
      "type                    6497 non-null object\n",
      "fixed acidity           6487 non-null float64\n",
      "volatile acidity        6489 non-null float64\n",
      "citric acid             6494 non-null float64\n",
      "residual sugar          6495 non-null float64\n",
      "chlorides               6495 non-null float64\n",
      "free sulfur dioxide     6497 non-null float64\n",
      "total sulfur dioxide    6497 non-null float64\n",
      "density                 6497 non-null float64\n",
      "pH                      6488 non-null float64\n",
      "sulphates               6493 non-null float64\n",
      "alcohol                 6497 non-null float64\n",
      "quality                 6497 non-null int64\n",
      "dtypes: float64(11), int64(1), object(1)\n",
      "memory usage: 659.9+ KB\n"
     ]
    }
   ],
   "source": [
    "df.info()"
   ]
  },
  {
   "cell_type": "code",
   "execution_count": 7,
   "metadata": {},
   "outputs": [
    {
     "data": {
      "text/plain": [
       "(6497, 13)"
      ]
     },
     "execution_count": 7,
     "metadata": {},
     "output_type": "execute_result"
    }
   ],
   "source": [
    "print(df.shape)"
   ]
  },
  {
   "cell_type": "code",
   "execution_count": 8,
   "metadata": {},
   "outputs": [
    {
     "data": {
      "text/plain": [
       "array(['type', 'fixed acidity', 'volatile acidity', 'citric acid',\n",
       "       'residual sugar', 'chlorides', 'free sulfur dioxide',\n",
       "       'total sulfur dioxide', 'density', 'pH', 'sulphates', 'alcohol',\n",
       "       'quality'], dtype=object)"
      ]
     },
     "execution_count": 8,
     "metadata": {},
     "output_type": "execute_result"
    }
   ],
   "source": [
    "df.columns.values"
   ]
  },
  {
   "cell_type": "code",
   "execution_count": 9,
   "metadata": {},
   "outputs": [
    {
     "data": {
      "text/html": [
       "<div>\n",
       "<style scoped>\n",
       "    .dataframe tbody tr th:only-of-type {\n",
       "        vertical-align: middle;\n",
       "    }\n",
       "\n",
       "    .dataframe tbody tr th {\n",
       "        vertical-align: top;\n",
       "    }\n",
       "\n",
       "    .dataframe thead th {\n",
       "        text-align: right;\n",
       "    }\n",
       "</style>\n",
       "<table border=\"1\" class=\"dataframe\">\n",
       "  <thead>\n",
       "    <tr style=\"text-align: right;\">\n",
       "      <th></th>\n",
       "      <th>fixed acidity</th>\n",
       "      <th>volatile acidity</th>\n",
       "      <th>citric acid</th>\n",
       "      <th>residual sugar</th>\n",
       "      <th>chlorides</th>\n",
       "      <th>free sulfur dioxide</th>\n",
       "      <th>total sulfur dioxide</th>\n",
       "      <th>density</th>\n",
       "      <th>pH</th>\n",
       "      <th>sulphates</th>\n",
       "      <th>alcohol</th>\n",
       "      <th>quality</th>\n",
       "    </tr>\n",
       "  </thead>\n",
       "  <tbody>\n",
       "    <tr>\n",
       "      <th>count</th>\n",
       "      <td>6487.000000</td>\n",
       "      <td>6489.000000</td>\n",
       "      <td>6494.000000</td>\n",
       "      <td>6495.000000</td>\n",
       "      <td>6495.000000</td>\n",
       "      <td>6497.000000</td>\n",
       "      <td>6497.000000</td>\n",
       "      <td>6497.000000</td>\n",
       "      <td>6488.000000</td>\n",
       "      <td>6493.000000</td>\n",
       "      <td>6497.000000</td>\n",
       "      <td>6497.000000</td>\n",
       "    </tr>\n",
       "    <tr>\n",
       "      <th>mean</th>\n",
       "      <td>7.216579</td>\n",
       "      <td>0.339691</td>\n",
       "      <td>0.318722</td>\n",
       "      <td>5.444326</td>\n",
       "      <td>0.056042</td>\n",
       "      <td>30.525319</td>\n",
       "      <td>115.744574</td>\n",
       "      <td>0.994697</td>\n",
       "      <td>3.218395</td>\n",
       "      <td>0.531215</td>\n",
       "      <td>10.491801</td>\n",
       "      <td>5.818378</td>\n",
       "    </tr>\n",
       "    <tr>\n",
       "      <th>std</th>\n",
       "      <td>1.296750</td>\n",
       "      <td>0.164649</td>\n",
       "      <td>0.145265</td>\n",
       "      <td>4.758125</td>\n",
       "      <td>0.035036</td>\n",
       "      <td>17.749400</td>\n",
       "      <td>56.521855</td>\n",
       "      <td>0.002999</td>\n",
       "      <td>0.160748</td>\n",
       "      <td>0.148814</td>\n",
       "      <td>1.192712</td>\n",
       "      <td>0.873255</td>\n",
       "    </tr>\n",
       "    <tr>\n",
       "      <th>min</th>\n",
       "      <td>3.800000</td>\n",
       "      <td>0.080000</td>\n",
       "      <td>0.000000</td>\n",
       "      <td>0.600000</td>\n",
       "      <td>0.009000</td>\n",
       "      <td>1.000000</td>\n",
       "      <td>6.000000</td>\n",
       "      <td>0.987110</td>\n",
       "      <td>2.720000</td>\n",
       "      <td>0.220000</td>\n",
       "      <td>8.000000</td>\n",
       "      <td>3.000000</td>\n",
       "    </tr>\n",
       "    <tr>\n",
       "      <th>25%</th>\n",
       "      <td>6.400000</td>\n",
       "      <td>0.230000</td>\n",
       "      <td>0.250000</td>\n",
       "      <td>1.800000</td>\n",
       "      <td>0.038000</td>\n",
       "      <td>17.000000</td>\n",
       "      <td>77.000000</td>\n",
       "      <td>0.992340</td>\n",
       "      <td>3.110000</td>\n",
       "      <td>0.430000</td>\n",
       "      <td>9.500000</td>\n",
       "      <td>5.000000</td>\n",
       "    </tr>\n",
       "    <tr>\n",
       "      <th>50%</th>\n",
       "      <td>7.000000</td>\n",
       "      <td>0.290000</td>\n",
       "      <td>0.310000</td>\n",
       "      <td>3.000000</td>\n",
       "      <td>0.047000</td>\n",
       "      <td>29.000000</td>\n",
       "      <td>118.000000</td>\n",
       "      <td>0.994890</td>\n",
       "      <td>3.210000</td>\n",
       "      <td>0.510000</td>\n",
       "      <td>10.300000</td>\n",
       "      <td>6.000000</td>\n",
       "    </tr>\n",
       "    <tr>\n",
       "      <th>75%</th>\n",
       "      <td>7.700000</td>\n",
       "      <td>0.400000</td>\n",
       "      <td>0.390000</td>\n",
       "      <td>8.100000</td>\n",
       "      <td>0.065000</td>\n",
       "      <td>41.000000</td>\n",
       "      <td>156.000000</td>\n",
       "      <td>0.996990</td>\n",
       "      <td>3.320000</td>\n",
       "      <td>0.600000</td>\n",
       "      <td>11.300000</td>\n",
       "      <td>6.000000</td>\n",
       "    </tr>\n",
       "    <tr>\n",
       "      <th>max</th>\n",
       "      <td>15.900000</td>\n",
       "      <td>1.580000</td>\n",
       "      <td>1.660000</td>\n",
       "      <td>65.800000</td>\n",
       "      <td>0.611000</td>\n",
       "      <td>289.000000</td>\n",
       "      <td>440.000000</td>\n",
       "      <td>1.038980</td>\n",
       "      <td>4.010000</td>\n",
       "      <td>2.000000</td>\n",
       "      <td>14.900000</td>\n",
       "      <td>9.000000</td>\n",
       "    </tr>\n",
       "  </tbody>\n",
       "</table>\n",
       "</div>"
      ],
      "text/plain": [
       "       fixed acidity  volatile acidity  citric acid  residual sugar  \\\n",
       "count    6487.000000       6489.000000  6494.000000     6495.000000   \n",
       "mean        7.216579          0.339691     0.318722        5.444326   \n",
       "std         1.296750          0.164649     0.145265        4.758125   \n",
       "min         3.800000          0.080000     0.000000        0.600000   \n",
       "25%         6.400000          0.230000     0.250000        1.800000   \n",
       "50%         7.000000          0.290000     0.310000        3.000000   \n",
       "75%         7.700000          0.400000     0.390000        8.100000   \n",
       "max        15.900000          1.580000     1.660000       65.800000   \n",
       "\n",
       "         chlorides  free sulfur dioxide  total sulfur dioxide      density  \\\n",
       "count  6495.000000          6497.000000           6497.000000  6497.000000   \n",
       "mean      0.056042            30.525319            115.744574     0.994697   \n",
       "std       0.035036            17.749400             56.521855     0.002999   \n",
       "min       0.009000             1.000000              6.000000     0.987110   \n",
       "25%       0.038000            17.000000             77.000000     0.992340   \n",
       "50%       0.047000            29.000000            118.000000     0.994890   \n",
       "75%       0.065000            41.000000            156.000000     0.996990   \n",
       "max       0.611000           289.000000            440.000000     1.038980   \n",
       "\n",
       "                pH    sulphates      alcohol      quality  \n",
       "count  6488.000000  6493.000000  6497.000000  6497.000000  \n",
       "mean      3.218395     0.531215    10.491801     5.818378  \n",
       "std       0.160748     0.148814     1.192712     0.873255  \n",
       "min       2.720000     0.220000     8.000000     3.000000  \n",
       "25%       3.110000     0.430000     9.500000     5.000000  \n",
       "50%       3.210000     0.510000    10.300000     6.000000  \n",
       "75%       3.320000     0.600000    11.300000     6.000000  \n",
       "max       4.010000     2.000000    14.900000     9.000000  "
      ]
     },
     "execution_count": 9,
     "metadata": {},
     "output_type": "execute_result"
    }
   ],
   "source": [
    "df.describe()"
   ]
  },
  {
   "cell_type": "code",
   "execution_count": 10,
   "metadata": {},
   "outputs": [
    {
     "data": {
      "text/plain": [
       "type                    False\n",
       "fixed acidity            True\n",
       "volatile acidity         True\n",
       "citric acid              True\n",
       "residual sugar           True\n",
       "chlorides                True\n",
       "free sulfur dioxide     False\n",
       "total sulfur dioxide    False\n",
       "density                 False\n",
       "pH                       True\n",
       "sulphates                True\n",
       "alcohol                 False\n",
       "quality                 False\n",
       "dtype: bool"
      ]
     },
     "execution_count": 10,
     "metadata": {},
     "output_type": "execute_result"
    }
   ],
   "source": [
    "df.isnull().any()"
   ]
  },
  {
   "cell_type": "code",
   "execution_count": 11,
   "metadata": {},
   "outputs": [],
   "source": [
    "df.dropna(axis=0,inplace=True)"
   ]
  },
  {
   "cell_type": "code",
   "execution_count": 12,
   "metadata": {},
   "outputs": [
    {
     "data": {
      "text/plain": [
       "(6463, 13)"
      ]
     },
     "execution_count": 12,
     "metadata": {},
     "output_type": "execute_result"
    }
   ],
   "source": [
    "df.shape"
   ]
  },
  {
   "cell_type": "code",
   "execution_count": 13,
   "metadata": {},
   "outputs": [
    {
     "data": {
      "text/plain": [
       "<matplotlib.axes._subplots.AxesSubplot at 0x7f19ea504080>"
      ]
     },
     "execution_count": 13,
     "metadata": {},
     "output_type": "execute_result"
    },
    {
     "data": {
      "image/png": "[encoded data removed]",
      "text/plain": [
       "<Figure size 432x288 with 1 Axes>"
      ]
     },
     "metadata": {},
     "output_type": "display_data"
    }
   ],
   "source": [
    "import seaborn as sns\n",
    "sns.countplot(x = df.quality, data=df, hue='type')"
   ]
  },
  {
   "cell_type": "code",
   "execution_count": 14,
   "metadata": {},
   "outputs": [
    {
     "data": {
      "text/plain": [
       "<matplotlib.axes._subplots.AxesSubplot at 0x7f19e5eb5a20>"
      ]
     },
     "execution_count": 14,
     "metadata": {},
     "output_type": "execute_result"
    },
    {
     "data": {
      "image/png": "[encoded data removed]",
      "text/plain": [
       "<Figure size 1008x1008 with 2 Axes>"
      ]
     },
     "metadata": {},
     "output_type": "display_data"
    }
   ],
   "source": [
    "plt.figure(figsize=(14,14))\n",
    "sns.heatmap(df.iloc[:,0:13].corr(), cbar = True,  square = True, annot=True, cmap= 'ocean_r')"
   ]
  },
  {
   "cell_type": "code",
   "execution_count": 15,
   "metadata": {},
   "outputs": [
    {
     "data": {
      "image/png": "[encoded data removed]",
      "text/plain": [
       "<Figure size 1584x720 with 8 Axes>"
      ]
     },
     "metadata": {},
     "output_type": "display_data"
    }
   ],
   "source": [
    "fig = plt.figure(figsize=(22,10))\n",
    "features = [\"total sulfur dioxide\", \"residual sugar\", \"volatile acidity\", \"total sulfur dioxide\", \"chlorides\", \"fixed acidity\", \"density\",\"sulphates\"]\n",
    "\n",
    "for i in range(8):\n",
    "    ax1 = fig.add_subplot(2,4,i+1)\n",
    "    sns.boxplot(x=\"type\", y=features[i],data=df, palette=\"rocket\");"
   ]
  },
  {
   "cell_type": "code",
   "execution_count": 16,
   "metadata": {},
   "outputs": [
    {
     "name": "stderr",
     "output_type": "stream",
     "text": [
      "/opt/conda/lib/python3.6/site-packages/scipy/stats/stats.py:1713: FutureWarning: Using a non-tuple sequence for multidimensional indexing is deprecated; use `arr[tuple(seq)]` instead of `arr[seq]`. In the future this will be interpreted as an array index, `arr[np.array(seq)]`, which will result either in an error or a different result.\n",
      "  return np.add.reduce(sorted[indexer] * weights, axis=axis) / sumval\n"
     ]
    },
    {
     "data": {
      "image/png": "[encoded data removed]",
      "text/plain": [
       "<Figure size 1728x720 with 8 Axes>"
      ]
     },
     "metadata": {},
     "output_type": "display_data"
    }
   ],
   "source": [
    "fig = plt.figure(figsize=(24,10))\n",
    "features = [\"total sulfur dioxide\", \"residual sugar\", \"volatile acidity\", \"total sulfur dioxide\", \"chlorides\", \"fixed acidity\", \"citric acid\",\"sulphates\"]\n",
    "\n",
    "for i in range(8):\n",
    "    ax1 = fig.add_subplot(2,4,i+1)\n",
    "    sns.barplot(x='quality', y=features[i],data=df, hue='type', palette='rocket')"
   ]
  },
  {
   "cell_type": "code",
   "execution_count": 17,
   "metadata": {},
   "outputs": [],
   "source": [
    "#Splitting data into predictors and target\n",
    "X = df.iloc[ :, 1:13]\n",
    "y = df.iloc[ : , 0]"
   ]
  },
  {
   "cell_type": "code",
   "execution_count": 18,
   "metadata": {},
   "outputs": [
    {
     "data": {
      "text/html": [
       "<div>\n",
       "<style scoped>\n",
       "    .dataframe tbody tr th:only-of-type {\n",
       "        vertical-align: middle;\n",
       "    }\n",
       "\n",
       "    .dataframe tbody tr th {\n",
       "        vertical-align: top;\n",
       "    }\n",
       "\n",
       "    .dataframe thead th {\n",
       "        text-align: right;\n",
       "    }\n",
       "</style>\n",
       "<table border=\"1\" class=\"dataframe\">\n",
       "  <thead>\n",
       "    <tr style=\"text-align: right;\">\n",
       "      <th></th>\n",
       "      <th>fixed acidity</th>\n",
       "      <th>volatile acidity</th>\n",
       "      <th>citric acid</th>\n",
       "      <th>residual sugar</th>\n",
       "      <th>chlorides</th>\n",
       "      <th>free sulfur dioxide</th>\n",
       "      <th>total sulfur dioxide</th>\n",
       "      <th>density</th>\n",
       "      <th>pH</th>\n",
       "      <th>sulphates</th>\n",
       "      <th>alcohol</th>\n",
       "      <th>quality</th>\n",
       "    </tr>\n",
       "  </thead>\n",
       "  <tbody>\n",
       "    <tr>\n",
       "      <th>0</th>\n",
       "      <td>7.0</td>\n",
       "      <td>0.27</td>\n",
       "      <td>0.36</td>\n",
       "      <td>20.7</td>\n",
       "      <td>0.045</td>\n",
       "      <td>45.0</td>\n",
       "      <td>170.0</td>\n",
       "      <td>1.0010</td>\n",
       "      <td>3.00</td>\n",
       "      <td>0.45</td>\n",
       "      <td>8.8</td>\n",
       "      <td>6</td>\n",
       "    </tr>\n",
       "    <tr>\n",
       "      <th>1</th>\n",
       "      <td>6.3</td>\n",
       "      <td>0.30</td>\n",
       "      <td>0.34</td>\n",
       "      <td>1.6</td>\n",
       "      <td>0.049</td>\n",
       "      <td>14.0</td>\n",
       "      <td>132.0</td>\n",
       "      <td>0.9940</td>\n",
       "      <td>3.30</td>\n",
       "      <td>0.49</td>\n",
       "      <td>9.5</td>\n",
       "      <td>6</td>\n",
       "    </tr>\n",
       "    <tr>\n",
       "      <th>2</th>\n",
       "      <td>8.1</td>\n",
       "      <td>0.28</td>\n",
       "      <td>0.40</td>\n",
       "      <td>6.9</td>\n",
       "      <td>0.050</td>\n",
       "      <td>30.0</td>\n",
       "      <td>97.0</td>\n",
       "      <td>0.9951</td>\n",
       "      <td>3.26</td>\n",
       "      <td>0.44</td>\n",
       "      <td>10.1</td>\n",
       "      <td>6</td>\n",
       "    </tr>\n",
       "    <tr>\n",
       "      <th>3</th>\n",
       "      <td>7.2</td>\n",
       "      <td>0.23</td>\n",
       "      <td>0.32</td>\n",
       "      <td>8.5</td>\n",
       "      <td>0.058</td>\n",
       "      <td>47.0</td>\n",
       "      <td>186.0</td>\n",
       "      <td>0.9956</td>\n",
       "      <td>3.19</td>\n",
       "      <td>0.40</td>\n",
       "      <td>9.9</td>\n",
       "      <td>6</td>\n",
       "    </tr>\n",
       "    <tr>\n",
       "      <th>4</th>\n",
       "      <td>7.2</td>\n",
       "      <td>0.23</td>\n",
       "      <td>0.32</td>\n",
       "      <td>8.5</td>\n",
       "      <td>0.058</td>\n",
       "      <td>47.0</td>\n",
       "      <td>186.0</td>\n",
       "      <td>0.9956</td>\n",
       "      <td>3.19</td>\n",
       "      <td>0.40</td>\n",
       "      <td>9.9</td>\n",
       "      <td>6</td>\n",
       "    </tr>\n",
       "  </tbody>\n",
       "</table>\n",
       "</div>"
      ],
      "text/plain": [
       "   fixed acidity  volatile acidity  citric acid  residual sugar  chlorides  \\\n",
       "0            7.0              0.27         0.36            20.7      0.045   \n",
       "1            6.3              0.30         0.34             1.6      0.049   \n",
       "2            8.1              0.28         0.40             6.9      0.050   \n",
       "3            7.2              0.23         0.32             8.5      0.058   \n",
       "4            7.2              0.23         0.32             8.5      0.058   \n",
       "\n",
       "   free sulfur dioxide  total sulfur dioxide  density    pH  sulphates  \\\n",
       "0                 45.0                 170.0   1.0010  3.00       0.45   \n",
       "1                 14.0                 132.0   0.9940  3.30       0.49   \n",
       "2                 30.0                  97.0   0.9951  3.26       0.44   \n",
       "3                 47.0                 186.0   0.9956  3.19       0.40   \n",
       "4                 47.0                 186.0   0.9956  3.19       0.40   \n",
       "\n",
       "   alcohol  quality  \n",
       "0      8.8        6  \n",
       "1      9.5        6  \n",
       "2     10.1        6  \n",
       "3      9.9        6  \n",
       "4      9.9        6  "
      ]
     },
     "execution_count": 18,
     "metadata": {},
     "output_type": "execute_result"
    }
   ],
   "source": [
    "X.head()"
   ]
  },
  {
   "cell_type": "code",
   "execution_count": 19,
   "metadata": {},
   "outputs": [
    {
     "data": {
      "text/plain": [
       "0    white\n",
       "1    white\n",
       "2    white\n",
       "3    white\n",
       "4    white\n",
       "Name: type, dtype: object"
      ]
     },
     "execution_count": 19,
     "metadata": {},
     "output_type": "execute_result"
    }
   ],
   "source": [
    "y.head()"
   ]
  },
  {
   "cell_type": "code",
   "execution_count": 20,
   "metadata": {},
   "outputs": [
    {
     "data": {
      "text/plain": [
       "dtype('int64')"
      ]
     },
     "execution_count": 20,
     "metadata": {},
     "output_type": "execute_result"
    }
   ],
   "source": [
    "#  Map Target data to '1' and '0'\n",
    "y = y.map({'white':1, 'red' : 0})\n",
    "y.dtype "
   ]
  },
  {
   "cell_type": "code",
   "execution_count": 21,
   "metadata": {},
   "outputs": [
    {
     "data": {
      "text/plain": [
       "['fixed acidity',\n",
       " 'volatile acidity',\n",
       " 'citric acid',\n",
       " 'residual sugar',\n",
       " 'chlorides',\n",
       " 'free sulfur dioxide',\n",
       " 'total sulfur dioxide',\n",
       " 'density',\n",
       " 'pH',\n",
       " 'sulphates',\n",
       " 'alcohol',\n",
       " 'quality']"
      ]
     },
     "execution_count": 21,
     "metadata": {},
     "output_type": "execute_result"
    }
   ],
   "source": [
    "colnames = X.columns.tolist()\n",
    "colnames"
   ]
  },
  {
   "cell_type": "code",
   "execution_count": 22,
   "metadata": {},
   "outputs": [],
   "source": [
    "# Split dataset into train and test parts\n",
    "X_train, X_test, y_train, y_test = train_test_split(X,\n",
    "                                                    y,\n",
    "                                                    test_size=0.30,\n",
    "                                                    shuffle = True\n",
    "                                                    )"
   ]
  },
  {
   "cell_type": "code",
   "execution_count": 23,
   "metadata": {},
   "outputs": [
    {
     "data": {
      "text/plain": [
       "(4524, 12)"
      ]
     },
     "execution_count": 23,
     "metadata": {},
     "output_type": "execute_result"
    }
   ],
   "source": [
    "print(X_train.shape)"
   ]
  },
  {
   "cell_type": "code",
   "execution_count": 24,
   "metadata": {},
   "outputs": [
    {
     "data": {
      "text/plain": [
       "(1939, 12)"
      ]
     },
     "execution_count": 24,
     "metadata": {},
     "output_type": "execute_result"
    }
   ],
   "source": [
    "print(X_test.shape)"
   ]
  },
  {
   "cell_type": "code",
   "execution_count": 25,
   "metadata": {},
   "outputs": [
    {
     "data": {
      "text/plain": [
       "(4524,)"
      ]
     },
     "execution_count": 25,
     "metadata": {},
     "output_type": "execute_result"
    }
   ],
   "source": [
    "print(y_train.shape)"
   ]
  },
  {
   "cell_type": "code",
   "execution_count": 26,
   "metadata": {},
   "outputs": [
    {
     "data": {
      "text/plain": [
       "(1939,)"
      ]
     },
     "execution_count": 26,
     "metadata": {},
     "output_type": "execute_result"
    }
   ],
   "source": [
    "print(y_test.shape)"
   ]
  },
  {
   "cell_type": "code",
   "execution_count": 27,
   "metadata": {},
   "outputs": [],
   "source": [
    "#Creating  pipelines\n",
    "\n",
    "#### Pipe using XGBoost and instantiating it.\n",
    "\n",
    "steps_xg = [('sts', ss() ),\n",
    "            ('pca', PCA()),\n",
    "            ('xg',  XGBClassifier(silent = False,\n",
    "                                  n_jobs=2)        # Specify other parameters here\n",
    "            )\n",
    "            ]\n",
    "\n",
    "pipe_xg = Pipeline(steps_xg)"
   ]
  },
  {
   "cell_type": "markdown",
   "metadata": {},
   "source": [
    "Grid Search"
   ]
  },
  {
   "cell_type": "code",
   "execution_count": 28,
   "metadata": {},
   "outputs": [],
   "source": [
    "parameters = {'xg__learning_rate':  [0.05, 0.4],\n",
    "              'xg__n_estimators':   [50,  80],\n",
    "              'xg__max_depth':      [3,5],\n",
    "              'pca__n_components' : [5,8]\n",
    "              }          "
   ]
  },
  {
   "cell_type": "code",
   "execution_count": 29,
   "metadata": {},
   "outputs": [],
   "source": [
    "clf = GridSearchCV(pipe_xg,            # pipeline object\n",
    "                   parameters,         # possible parameters\n",
    "                   n_jobs = 2,         # USe parallel cpu threads\n",
    "                   cv =2 ,             # No of folds\n",
    "                   verbose =2,         # Higher the value, more the verbosity\n",
    "                   scoring = ['accuracy', 'roc_auc'],  # Metrics for performance\n",
    "                   refit = 'roc_auc'   # Refitting final model on what parameters?\n",
    "                                       # Those which maximise auc\n",
    "                   )"
   ]
  },
  {
   "cell_type": "code",
   "execution_count": 30,
   "metadata": {},
   "outputs": [
    {
     "name": "stdout",
     "output_type": "stream",
     "text": [
      "Fitting 2 folds for each of 16 candidates, totalling 32 fits\n"
     ]
    },
    {
     "name": "stderr",
     "output_type": "stream",
     "text": [
      "[Parallel(n_jobs=2)]: Using backend LokyBackend with 2 concurrent workers.\n",
      "[Parallel(n_jobs=2)]: Done  32 out of  32 | elapsed:    8.0s finished\n",
      "/opt/conda/lib/python3.6/site-packages/sklearn/preprocessing/data.py:645: DataConversionWarning: Data with input dtype int64, float64 were all converted to float64 by StandardScaler.\n",
      "  return self.partial_fit(X, y)\n",
      "/opt/conda/lib/python3.6/site-packages/sklearn/base.py:467: DataConversionWarning: Data with input dtype int64, float64 were all converted to float64 by StandardScaler.\n",
      "  return self.fit(X, y, **fit_params).transform(X)\n"
     ]
    },
    {
     "data": {
      "text/plain": [
       "0.13864603439966838"
      ]
     },
     "execution_count": 30,
     "metadata": {},
     "output_type": "execute_result"
    }
   ],
   "source": [
    "start = time.time()\n",
    "clf.fit(X_train, y_train)\n",
    "end = time.time()\n",
    "(end - start)/60"
   ]
  },
  {
   "cell_type": "code",
   "execution_count": 31,
   "metadata": {},
   "outputs": [
    {
     "data": {
      "text/plain": [
       "'Best Score: 0.996163914353721 '"
      ]
     },
     "execution_count": 31,
     "metadata": {},
     "output_type": "execute_result"
    }
   ],
   "source": [
    "f\"Best Score: {clf.best_score_} \""
   ]
  },
  {
   "cell_type": "code",
   "execution_count": 32,
   "metadata": {},
   "outputs": [
    {
     "data": {
      "text/plain": [
       "\"Best Parameter set {'pca__n_components': 8, 'xg__learning_rate': 0.4, 'xg__max_depth': 3, 'xg__n_estimators': 80}\""
      ]
     },
     "execution_count": 32,
     "metadata": {},
     "output_type": "execute_result"
    }
   ],
   "source": [
    "f\"Best Parameter set {clf.best_params_}\""
   ]
  },
  {
   "cell_type": "code",
   "execution_count": 33,
   "metadata": {},
   "outputs": [
    {
     "name": "stderr",
     "output_type": "stream",
     "text": [
      "/opt/conda/lib/python3.6/site-packages/sklearn/pipeline.py:331: DataConversionWarning: Data with input dtype int64, float64 were all converted to float64 by StandardScaler.\n",
      "  Xt = transform.transform(Xt)\n"
     ]
    }
   ],
   "source": [
    "y_pred_gs = clf.predict(X_test)"
   ]
  },
  {
   "cell_type": "code",
   "execution_count": 34,
   "metadata": {},
   "outputs": [
    {
     "data": {
      "text/plain": [
       "'Accuracy: 99.22640536358948'"
      ]
     },
     "execution_count": 34,
     "metadata": {},
     "output_type": "execute_result"
    }
   ],
   "source": [
    "# Accuracy\n",
    "accuracy_gs = accuracy_score(y_test, y_pred_gs)\n",
    "f\"Accuracy: {accuracy_gs * 100.0}\""
   ]
  },
  {
   "cell_type": "code",
   "execution_count": 35,
   "metadata": {},
   "outputs": [
    {
     "data": {
      "text/plain": [
       "([0, 1, 2, 3], <a list of 4 Text xticklabel objects>)"
      ]
     },
     "execution_count": 35,
     "metadata": {},
     "output_type": "execute_result"
    },
    {
     "data": {
      "image/png": "[encoded data removed]",
      "text/plain": [
       "<Figure size 432x288 with 1 Axes>"
      ]
     },
     "metadata": {},
     "output_type": "display_data"
    }
   ],
   "source": [
    "plt.bar(clf.best_params_.keys(), clf.best_params_.values())\n",
    "plt.xticks(rotation=70)"
   ]
  },
  {
   "cell_type": "code",
   "execution_count": 36,
   "metadata": {},
   "outputs": [
    {
     "data": {
      "text/plain": [
       "0.009742371241251628"
      ]
     },
     "execution_count": 36,
     "metadata": {},
     "output_type": "execute_result"
    }
   ],
   "source": [
    "# Instantiate the importance object\n",
    "perm = PermutationImportance(\n",
    "                            clf,\n",
    "                            random_state=1\n",
    "                            )\n",
    "\n",
    "# fit data & learn\n",
    "start = time.time()\n",
    "perm.fit(X_test, y_test)\n",
    "end = time.time()\n",
    "(end - start)/60"
   ]
  },
  {
   "cell_type": "code",
   "execution_count": 37,
   "metadata": {},
   "outputs": [
    {
     "data": {
      "text/html": [
       "\n",
       "    <style>\n",
       "    table.eli5-weights tr:hover {\n",
       "        filter: brightness(85%);\n",
       "    }\n",
       "</style>\n",
       "\n",
       "\n",
       "\n",
       "    \n",
       "\n",
       "    \n",
       "\n",
       "    \n",
       "\n",
       "    \n",
       "\n",
       "    \n",
       "\n",
       "    \n",
       "\n",
       "\n",
       "    \n",
       "\n",
       "    \n",
       "\n",
       "    \n",
       "\n",
       "    \n",
       "\n",
       "    \n",
       "\n",
       "    \n",
       "\n",
       "\n",
       "    \n",
       "\n",
       "    \n",
       "\n",
       "    \n",
       "\n",
       "    \n",
       "\n",
       "    \n",
       "        <table class=\"eli5-weights eli5-feature-importances\" style=\"border-collapse: collapse; border: none; margin-top: 0em; table-layout: auto;\">\n",
       "    <thead>\n",
       "    <tr style=\"border: none;\">\n",
       "        <th style=\"padding: 0 1em 0 0.5em; text-align: right; border: none;\">Weight</th>\n",
       "        <th style=\"padding: 0 0.5em 0 0.5em; text-align: left; border: none;\">Feature</th>\n",
       "    </tr>\n",
       "    </thead>\n",
       "    <tbody>\n",
       "    \n",
       "        <tr style=\"background-color: hsl(120, 100.00%, 80.00%); border: none;\">\n",
       "            <td style=\"padding: 0 1em 0 0.5em; text-align: right; border: none;\">\n",
       "                0.0106\n",
       "                \n",
       "                    &plusmn; 0.0033\n",
       "                \n",
       "            </td>\n",
       "            <td style=\"padding: 0 0.5em 0 0.5em; text-align: left; border: none;\">\n",
       "                volatile acidity\n",
       "            </td>\n",
       "        </tr>\n",
       "    \n",
       "        <tr style=\"background-color: hsl(120, 100.00%, 82.70%); border: none;\">\n",
       "            <td style=\"padding: 0 1em 0 0.5em; text-align: right; border: none;\">\n",
       "                0.0086\n",
       "                \n",
       "                    &plusmn; 0.0014\n",
       "                \n",
       "            </td>\n",
       "            <td style=\"padding: 0 0.5em 0 0.5em; text-align: left; border: none;\">\n",
       "                total sulfur dioxide\n",
       "            </td>\n",
       "        </tr>\n",
       "    \n",
       "        <tr style=\"background-color: hsl(120, 100.00%, 86.62%); border: none;\">\n",
       "            <td style=\"padding: 0 1em 0 0.5em; text-align: right; border: none;\">\n",
       "                0.0059\n",
       "                \n",
       "                    &plusmn; 0.0027\n",
       "                \n",
       "            </td>\n",
       "            <td style=\"padding: 0 0.5em 0 0.5em; text-align: left; border: none;\">\n",
       "                chlorides\n",
       "            </td>\n",
       "        </tr>\n",
       "    \n",
       "        <tr style=\"background-color: hsl(120, 100.00%, 87.13%); border: none;\">\n",
       "            <td style=\"padding: 0 1em 0 0.5em; text-align: right; border: none;\">\n",
       "                0.0056\n",
       "                \n",
       "                    &plusmn; 0.0017\n",
       "                \n",
       "            </td>\n",
       "            <td style=\"padding: 0 0.5em 0 0.5em; text-align: left; border: none;\">\n",
       "                pH\n",
       "            </td>\n",
       "        </tr>\n",
       "    \n",
       "        <tr style=\"background-color: hsl(120, 100.00%, 93.34%); border: none;\">\n",
       "            <td style=\"padding: 0 1em 0 0.5em; text-align: right; border: none;\">\n",
       "                0.0022\n",
       "                \n",
       "                    &plusmn; 0.0016\n",
       "                \n",
       "            </td>\n",
       "            <td style=\"padding: 0 0.5em 0 0.5em; text-align: left; border: none;\">\n",
       "                sulphates\n",
       "            </td>\n",
       "        </tr>\n",
       "    \n",
       "        <tr style=\"background-color: hsl(120, 100.00%, 94.06%); border: none;\">\n",
       "            <td style=\"padding: 0 1em 0 0.5em; text-align: right; border: none;\">\n",
       "                0.0019\n",
       "                \n",
       "                    &plusmn; 0.0011\n",
       "                \n",
       "            </td>\n",
       "            <td style=\"padding: 0 0.5em 0 0.5em; text-align: left; border: none;\">\n",
       "                citric acid\n",
       "            </td>\n",
       "        </tr>\n",
       "    \n",
       "        <tr style=\"background-color: hsl(120, 100.00%, 94.72%); border: none;\">\n",
       "            <td style=\"padding: 0 1em 0 0.5em; text-align: right; border: none;\">\n",
       "                0.0016\n",
       "                \n",
       "                    &plusmn; 0.0015\n",
       "                \n",
       "            </td>\n",
       "            <td style=\"padding: 0 0.5em 0 0.5em; text-align: left; border: none;\">\n",
       "                fixed acidity\n",
       "            </td>\n",
       "        </tr>\n",
       "    \n",
       "        <tr style=\"background-color: hsl(120, 100.00%, 96.06%); border: none;\">\n",
       "            <td style=\"padding: 0 1em 0 0.5em; text-align: right; border: none;\">\n",
       "                0.0010\n",
       "                \n",
       "                    &plusmn; 0.0012\n",
       "                \n",
       "            </td>\n",
       "            <td style=\"padding: 0 0.5em 0 0.5em; text-align: left; border: none;\">\n",
       "                residual sugar\n",
       "            </td>\n",
       "        </tr>\n",
       "    \n",
       "        <tr style=\"background-color: hsl(120, 100.00%, 96.30%); border: none;\">\n",
       "            <td style=\"padding: 0 1em 0 0.5em; text-align: right; border: none;\">\n",
       "                0.0009\n",
       "                \n",
       "                    &plusmn; 0.0012\n",
       "                \n",
       "            </td>\n",
       "            <td style=\"padding: 0 0.5em 0 0.5em; text-align: left; border: none;\">\n",
       "                density\n",
       "            </td>\n",
       "        </tr>\n",
       "    \n",
       "        <tr style=\"background-color: hsl(120, 100.00%, 96.66%); border: none;\">\n",
       "            <td style=\"padding: 0 1em 0 0.5em; text-align: right; border: none;\">\n",
       "                0.0008\n",
       "                \n",
       "                    &plusmn; 0.0013\n",
       "                \n",
       "            </td>\n",
       "            <td style=\"padding: 0 0.5em 0 0.5em; text-align: left; border: none;\">\n",
       "                free sulfur dioxide\n",
       "            </td>\n",
       "        </tr>\n",
       "    \n",
       "        <tr style=\"background-color: hsl(120, 100.00%, 97.79%); border: none;\">\n",
       "            <td style=\"padding: 0 1em 0 0.5em; text-align: right; border: none;\">\n",
       "                0.0005\n",
       "                \n",
       "                    &plusmn; 0.0015\n",
       "                \n",
       "            </td>\n",
       "            <td style=\"padding: 0 0.5em 0 0.5em; text-align: left; border: none;\">\n",
       "                quality\n",
       "            </td>\n",
       "        </tr>\n",
       "    \n",
       "        <tr style=\"background-color: hsl(120, 100.00%, 99.47%); border: none;\">\n",
       "            <td style=\"padding: 0 1em 0 0.5em; text-align: right; border: none;\">\n",
       "                0.0001\n",
       "                \n",
       "                    &plusmn; 0.0021\n",
       "                \n",
       "            </td>\n",
       "            <td style=\"padding: 0 0.5em 0 0.5em; text-align: left; border: none;\">\n",
       "                alcohol\n",
       "            </td>\n",
       "        </tr>\n",
       "    \n",
       "    \n",
       "    </tbody>\n",
       "</table>\n",
       "    \n",
       "\n",
       "    \n",
       "\n",
       "\n",
       "    \n",
       "\n",
       "    \n",
       "\n",
       "    \n",
       "\n",
       "    \n",
       "\n",
       "    \n",
       "\n",
       "    \n",
       "\n",
       "\n",
       "\n"
      ],
      "text/plain": [
       "<IPython.core.display.HTML object>"
      ]
     },
     "execution_count": 37,
     "metadata": {},
     "output_type": "execute_result"
    }
   ],
   "source": [
    "eli5.show_weights(\n",
    "                  perm,\n",
    "                  feature_names = colnames      # X_test.columns.tolist()\n",
    "                  )"
   ]
  },
  {
   "cell_type": "code",
   "execution_count": 38,
   "metadata": {},
   "outputs": [
    {
     "data": {
      "text/html": [
       "<div>\n",
       "<style scoped>\n",
       "    .dataframe tbody tr th:only-of-type {\n",
       "        vertical-align: middle;\n",
       "    }\n",
       "\n",
       "    .dataframe tbody tr th {\n",
       "        vertical-align: top;\n",
       "    }\n",
       "\n",
       "    .dataframe thead th {\n",
       "        text-align: right;\n",
       "    }\n",
       "</style>\n",
       "<table border=\"1\" class=\"dataframe\">\n",
       "  <thead>\n",
       "    <tr style=\"text-align: right;\">\n",
       "      <th></th>\n",
       "      <th>feature</th>\n",
       "      <th>weight</th>\n",
       "      <th>std</th>\n",
       "    </tr>\n",
       "  </thead>\n",
       "  <tbody>\n",
       "    <tr>\n",
       "      <th>0</th>\n",
       "      <td>volatile acidity</td>\n",
       "      <td>0.010564</td>\n",
       "      <td>0.001638</td>\n",
       "    </tr>\n",
       "    <tr>\n",
       "      <th>1</th>\n",
       "      <td>total sulfur dioxide</td>\n",
       "      <td>0.008587</td>\n",
       "      <td>0.000720</td>\n",
       "    </tr>\n",
       "    <tr>\n",
       "      <th>2</th>\n",
       "      <td>chlorides</td>\n",
       "      <td>0.005948</td>\n",
       "      <td>0.001356</td>\n",
       "    </tr>\n",
       "    <tr>\n",
       "      <th>3</th>\n",
       "      <td>pH</td>\n",
       "      <td>0.005629</td>\n",
       "      <td>0.000870</td>\n",
       "    </tr>\n",
       "    <tr>\n",
       "      <th>4</th>\n",
       "      <td>sulphates</td>\n",
       "      <td>0.002194</td>\n",
       "      <td>0.000819</td>\n",
       "    </tr>\n",
       "    <tr>\n",
       "      <th>5</th>\n",
       "      <td>citric acid</td>\n",
       "      <td>0.001863</td>\n",
       "      <td>0.000559</td>\n",
       "    </tr>\n",
       "    <tr>\n",
       "      <th>6</th>\n",
       "      <td>fixed acidity</td>\n",
       "      <td>0.001576</td>\n",
       "      <td>0.000773</td>\n",
       "    </tr>\n",
       "    <tr>\n",
       "      <th>7</th>\n",
       "      <td>residual sugar</td>\n",
       "      <td>0.001039</td>\n",
       "      <td>0.000604</td>\n",
       "    </tr>\n",
       "    <tr>\n",
       "      <th>8</th>\n",
       "      <td>density</td>\n",
       "      <td>0.000946</td>\n",
       "      <td>0.000614</td>\n",
       "    </tr>\n",
       "    <tr>\n",
       "      <th>9</th>\n",
       "      <td>free sulfur dioxide</td>\n",
       "      <td>0.000819</td>\n",
       "      <td>0.000671</td>\n",
       "    </tr>\n",
       "    <tr>\n",
       "      <th>10</th>\n",
       "      <td>quality</td>\n",
       "      <td>0.000455</td>\n",
       "      <td>0.000763</td>\n",
       "    </tr>\n",
       "    <tr>\n",
       "      <th>11</th>\n",
       "      <td>alcohol</td>\n",
       "      <td>0.000059</td>\n",
       "      <td>0.001059</td>\n",
       "    </tr>\n",
       "  </tbody>\n",
       "</table>\n",
       "</div>"
      ],
      "text/plain": [
       "                 feature    weight       std\n",
       "0       volatile acidity  0.010564  0.001638\n",
       "1   total sulfur dioxide  0.008587  0.000720\n",
       "2              chlorides  0.005948  0.001356\n",
       "3                     pH  0.005629  0.000870\n",
       "4              sulphates  0.002194  0.000819\n",
       "5            citric acid  0.001863  0.000559\n",
       "6          fixed acidity  0.001576  0.000773\n",
       "7         residual sugar  0.001039  0.000604\n",
       "8                density  0.000946  0.000614\n",
       "9    free sulfur dioxide  0.000819  0.000671\n",
       "10               quality  0.000455  0.000763\n",
       "11               alcohol  0.000059  0.001059"
      ]
     },
     "execution_count": 38,
     "metadata": {},
     "output_type": "execute_result"
    }
   ],
   "source": [
    "fw = eli5.explain_weights_df(\n",
    "                  perm,\n",
    "                  feature_names = colnames      # X_test.columns.tolist()\n",
    "                  )\n",
    "\n",
    "fw"
   ]
  },
  {
   "cell_type": "markdown",
   "metadata": {},
   "source": [
    "Random Search"
   ]
  },
  {
   "cell_type": "code",
   "execution_count": 39,
   "metadata": {},
   "outputs": [],
   "source": [
    "parameters = {'xg__learning_rate':  uniform(0, 1),\n",
    "              'xg__n_estimators':   range(50,80),\n",
    "              'xg__max_depth':      range(3,5),\n",
    "              'pca__n_components' : range(5,7)}"
   ]
  },
  {
   "cell_type": "code",
   "execution_count": 40,
   "metadata": {},
   "outputs": [],
   "source": [
    "rs = RandomizedSearchCV(pipe_xg,\n",
    "                        param_distributions=parameters,\n",
    "                        scoring= ['roc_auc', 'accuracy'],\n",
    "                        n_iter=12,          # Max combination of\n",
    "                                            # parameter to try. Default = 10\n",
    "                        verbose = 3,\n",
    "                        refit = 'roc_auc',\n",
    "                        n_jobs = 2,          # Use parallel cpu threads\n",
    "                        cv = 2               # No of folds.\n",
    "                                             # So n_iter * cv combinations\n",
    "                        )"
   ]
  },
  {
   "cell_type": "code",
   "execution_count": 41,
   "metadata": {},
   "outputs": [
    {
     "name": "stdout",
     "output_type": "stream",
     "text": [
      "Fitting 2 folds for each of 12 candidates, totalling 24 fits\n"
     ]
    },
    {
     "name": "stderr",
     "output_type": "stream",
     "text": [
      "[Parallel(n_jobs=2)]: Using backend LokyBackend with 2 concurrent workers.\n",
      "[Parallel(n_jobs=2)]: Done  24 out of  24 | elapsed:    3.7s finished\n",
      "/opt/conda/lib/python3.6/site-packages/sklearn/preprocessing/data.py:645: DataConversionWarning: Data with input dtype int64, float64 were all converted to float64 by StandardScaler.\n",
      "  return self.partial_fit(X, y)\n",
      "/opt/conda/lib/python3.6/site-packages/sklearn/base.py:467: DataConversionWarning: Data with input dtype int64, float64 were all converted to float64 by StandardScaler.\n",
      "  return self.fit(X, y, **fit_params).transform(X)\n"
     ]
    },
    {
     "data": {
      "text/plain": [
       "0.06485810677210489"
      ]
     },
     "execution_count": 41,
     "metadata": {},
     "output_type": "execute_result"
    }
   ],
   "source": [
    "start = time.time()\n",
    "rs.fit(X_train, y_train)\n",
    "end = time.time()\n",
    "(end - start)/60"
   ]
  },
  {
   "cell_type": "code",
   "execution_count": 42,
   "metadata": {},
   "outputs": [
    {
     "data": {
      "text/plain": [
       "'Best Score: 0.9953946917040061 '"
      ]
     },
     "execution_count": 42,
     "metadata": {},
     "output_type": "execute_result"
    }
   ],
   "source": [
    "f\"Best Score: {rs.best_score_} \""
   ]
  },
  {
   "cell_type": "code",
   "execution_count": 43,
   "metadata": {},
   "outputs": [
    {
     "data": {
      "text/plain": [
       "\"Best Parameter set: {'pca__n_components': 5, 'xg__learning_rate': 0.1348857030261854, 'xg__max_depth': 4, 'xg__n_estimators': 57} \""
      ]
     },
     "execution_count": 43,
     "metadata": {},
     "output_type": "execute_result"
    }
   ],
   "source": [
    "f\"Best Parameter set: {rs.best_params_} \""
   ]
  },
  {
   "cell_type": "code",
   "execution_count": 44,
   "metadata": {},
   "outputs": [
    {
     "name": "stderr",
     "output_type": "stream",
     "text": [
      "/opt/conda/lib/python3.6/site-packages/sklearn/pipeline.py:331: DataConversionWarning: Data with input dtype int64, float64 were all converted to float64 by StandardScaler.\n",
      "  Xt = transform.transform(Xt)\n"
     ]
    }
   ],
   "source": [
    "# Make predictions\n",
    "y_pred_rs = rs.predict(X_test)"
   ]
  },
  {
   "cell_type": "code",
   "execution_count": 45,
   "metadata": {},
   "outputs": [
    {
     "data": {
      "text/plain": [
       "'Accuracy: 99.17483238782879'"
      ]
     },
     "execution_count": 45,
     "metadata": {},
     "output_type": "execute_result"
    }
   ],
   "source": [
    "# Accuracy\n",
    "accuracy_rs = accuracy_score(y_test, y_pred_rs)\n",
    "f\"Accuracy: {accuracy_rs * 100.0}\""
   ]
  },
  {
   "cell_type": "code",
   "execution_count": 46,
   "metadata": {},
   "outputs": [
    {
     "data": {
      "text/plain": [
       "([0, 1, 2, 3], <a list of 4 Text xticklabel objects>)"
      ]
     },
     "execution_count": 46,
     "metadata": {},
     "output_type": "execute_result"
    },
    {
     "data": {
      "image/png": "[encoded data removed]",
      "text/plain": [
       "<Figure size 432x288 with 1 Axes>"
      ]
     },
     "metadata": {},
     "output_type": "display_data"
    }
   ],
   "source": [
    "plt.bar(rs.best_params_.keys(), rs.best_params_.values())\n",
    "plt.xticks(rotation=50)"
   ]
  },
  {
   "cell_type": "markdown",
   "metadata": {},
   "source": [
    "Bayesian Optimization"
   ]
  },
  {
   "cell_type": "code",
   "execution_count": 47,
   "metadata": {},
   "outputs": [],
   "source": [
    "para_set = {\n",
    "           'learning_rate':  (0.3, 0.9),                 \n",
    "           'n_estimators':   (60,90),               \n",
    "           'max_depth':      (3,5),                 \n",
    "           'n_components' :  (5,7)          \n",
    "            }"
   ]
  },
  {
   "cell_type": "code",
   "execution_count": 48,
   "metadata": {},
   "outputs": [],
   "source": [
    "def xg_eval(learning_rate,n_estimators, max_depth,n_components):\n",
    "    #Pipeling for Bayesian Optimization\n",
    "    pipe_xg1 = make_pipeline (ss(),\n",
    "                              PCA(n_components=int(round(n_components))),\n",
    "                              XGBClassifier(\n",
    "                                           silent = False,\n",
    "                                           n_jobs=2,\n",
    "                                           learning_rate=learning_rate,\n",
    "                                           max_depth=int(round(max_depth)),\n",
    "                                           n_estimators=int(round(n_estimators))\n",
    "                                           )\n",
    "                             )\n",
    "    #Fitting into pipeline \n",
    "    cv_result = cross_val_score(estimator = pipe_xg1,\n",
    "                                X= X_train,\n",
    "                                y = y_train,\n",
    "                                cv = 2,\n",
    "                                n_jobs = 2,\n",
    "                                scoring = 'f1'\n",
    "                                ).mean()             # taking mean of all results\n",
    "\n",
    "    return cv_result       #Returning final mean of all results of cross val score\n"
   ]
  },
  {
   "cell_type": "code",
   "execution_count": 49,
   "metadata": {},
   "outputs": [],
   "source": [
    "xgBO = BayesianOptimization(\n",
    "                             xg_eval, \n",
    "                             para_set \n",
    "                             )"
   ]
  },
  {
   "cell_type": "code",
   "execution_count": 50,
   "metadata": {},
   "outputs": [
    {
     "name": "stdout",
     "output_type": "stream",
     "text": [
      "|   iter    |  target   | learni... | max_depth | n_comp... | n_esti... |\n",
      "-------------------------------------------------------------------------\n",
      "| \u001b[0m 1       \u001b[0m | \u001b[0m 0.9921  \u001b[0m | \u001b[0m 0.6464  \u001b[0m | \u001b[0m 3.611   \u001b[0m | \u001b[0m 6.898   \u001b[0m | \u001b[0m 86.7    \u001b[0m |\n",
      "| \u001b[95m 2       \u001b[0m | \u001b[95m 0.9922  \u001b[0m | \u001b[95m 0.8765  \u001b[0m | \u001b[95m 3.697   \u001b[0m | \u001b[95m 5.486   \u001b[0m | \u001b[95m 77.9    \u001b[0m |\n",
      "| \u001b[0m 3       \u001b[0m | \u001b[0m 0.9917  \u001b[0m | \u001b[0m 0.8574  \u001b[0m | \u001b[0m 3.051   \u001b[0m | \u001b[0m 6.462   \u001b[0m | \u001b[0m 63.83   \u001b[0m |\n",
      "| \u001b[0m 4       \u001b[0m | \u001b[0m 0.9918  \u001b[0m | \u001b[0m 0.5802  \u001b[0m | \u001b[0m 3.097   \u001b[0m | \u001b[0m 6.71    \u001b[0m | \u001b[0m 75.36   \u001b[0m |\n",
      "| \u001b[0m 5       \u001b[0m | \u001b[0m 0.9914  \u001b[0m | \u001b[0m 0.6642  \u001b[0m | \u001b[0m 4.166   \u001b[0m | \u001b[0m 5.541   \u001b[0m | \u001b[0m 89.74   \u001b[0m |\n",
      "| \u001b[0m 6       \u001b[0m | \u001b[0m 0.9918  \u001b[0m | \u001b[0m 0.8496  \u001b[0m | \u001b[0m 4.872   \u001b[0m | \u001b[0m 5.19    \u001b[0m | \u001b[0m 60.03   \u001b[0m |\n",
      "| \u001b[95m 7       \u001b[0m | \u001b[95m 0.9928  \u001b[0m | \u001b[95m 0.7456  \u001b[0m | \u001b[95m 4.828   \u001b[0m | \u001b[95m 6.785   \u001b[0m | \u001b[95m 60.03   \u001b[0m |\n",
      "| \u001b[0m 8       \u001b[0m | \u001b[0m 0.9921  \u001b[0m | \u001b[0m 0.4465  \u001b[0m | \u001b[0m 3.185   \u001b[0m | \u001b[0m 5.247   \u001b[0m | \u001b[0m 60.0    \u001b[0m |\n",
      "| \u001b[0m 9       \u001b[0m | \u001b[0m 0.9918  \u001b[0m | \u001b[0m 0.3995  \u001b[0m | \u001b[0m 4.363   \u001b[0m | \u001b[0m 5.708   \u001b[0m | \u001b[0m 89.99   \u001b[0m |\n",
      "| \u001b[95m 10      \u001b[0m | \u001b[95m 0.9931  \u001b[0m | \u001b[95m 0.8403  \u001b[0m | \u001b[95m 3.231   \u001b[0m | \u001b[95m 6.911   \u001b[0m | \u001b[95m 60.01   \u001b[0m |\n",
      "| \u001b[0m 11      \u001b[0m | \u001b[0m 0.9916  \u001b[0m | \u001b[0m 0.6471  \u001b[0m | \u001b[0m 4.999   \u001b[0m | \u001b[0m 6.884   \u001b[0m | \u001b[0m 60.07   \u001b[0m |\n",
      "| \u001b[0m 12      \u001b[0m | \u001b[0m 0.9918  \u001b[0m | \u001b[0m 0.6994  \u001b[0m | \u001b[0m 4.94    \u001b[0m | \u001b[0m 6.995   \u001b[0m | \u001b[0m 89.94   \u001b[0m |\n",
      "| \u001b[0m 13      \u001b[0m | \u001b[0m 0.9914  \u001b[0m | \u001b[0m 0.4124  \u001b[0m | \u001b[0m 3.083   \u001b[0m | \u001b[0m 6.924   \u001b[0m | \u001b[0m 60.02   \u001b[0m |\n",
      "| \u001b[0m 14      \u001b[0m | \u001b[0m 0.9925  \u001b[0m | \u001b[0m 0.8074  \u001b[0m | \u001b[0m 4.344   \u001b[0m | \u001b[0m 6.794   \u001b[0m | \u001b[0m 89.96   \u001b[0m |\n",
      "| \u001b[0m 15      \u001b[0m | \u001b[0m 0.9918  \u001b[0m | \u001b[0m 0.8129  \u001b[0m | \u001b[0m 3.556   \u001b[0m | \u001b[0m 5.015   \u001b[0m | \u001b[0m 89.99   \u001b[0m |\n",
      "| \u001b[0m 16      \u001b[0m | \u001b[0m 0.9918  \u001b[0m | \u001b[0m 0.7943  \u001b[0m | \u001b[0m 4.688   \u001b[0m | \u001b[0m 5.726   \u001b[0m | \u001b[0m 60.05   \u001b[0m |\n",
      "| \u001b[0m 17      \u001b[0m | \u001b[0m 0.9922  \u001b[0m | \u001b[0m 0.6332  \u001b[0m | \u001b[0m 4.878   \u001b[0m | \u001b[0m 6.172   \u001b[0m | \u001b[0m 60.02   \u001b[0m |\n",
      "| \u001b[0m 18      \u001b[0m | \u001b[0m 0.9917  \u001b[0m | \u001b[0m 0.4437  \u001b[0m | \u001b[0m 3.208   \u001b[0m | \u001b[0m 6.401   \u001b[0m | \u001b[0m 89.93   \u001b[0m |\n",
      "| \u001b[0m 19      \u001b[0m | \u001b[0m 0.9921  \u001b[0m | \u001b[0m 0.6199  \u001b[0m | \u001b[0m 4.769   \u001b[0m | \u001b[0m 5.637   \u001b[0m | \u001b[0m 60.03   \u001b[0m |\n",
      "| \u001b[0m 20      \u001b[0m | \u001b[0m 0.9915  \u001b[0m | \u001b[0m 0.7094  \u001b[0m | \u001b[0m 3.495   \u001b[0m | \u001b[0m 5.127   \u001b[0m | \u001b[0m 60.01   \u001b[0m |\n",
      "| \u001b[0m 21      \u001b[0m | \u001b[0m 0.992   \u001b[0m | \u001b[0m 0.3433  \u001b[0m | \u001b[0m 3.147   \u001b[0m | \u001b[0m 6.925   \u001b[0m | \u001b[0m 89.99   \u001b[0m |\n",
      "| \u001b[0m 22      \u001b[0m | \u001b[0m 0.9915  \u001b[0m | \u001b[0m 0.8361  \u001b[0m | \u001b[0m 4.557   \u001b[0m | \u001b[0m 6.315   \u001b[0m | \u001b[0m 60.03   \u001b[0m |\n",
      "| \u001b[0m 23      \u001b[0m | \u001b[0m 0.9924  \u001b[0m | \u001b[0m 0.7323  \u001b[0m | \u001b[0m 3.941   \u001b[0m | \u001b[0m 6.988   \u001b[0m | \u001b[0m 89.99   \u001b[0m |\n",
      "| \u001b[0m 24      \u001b[0m | \u001b[0m 0.9924  \u001b[0m | \u001b[0m 0.4916  \u001b[0m | \u001b[0m 4.751   \u001b[0m | \u001b[0m 6.268   \u001b[0m | \u001b[0m 89.96   \u001b[0m |\n",
      "| \u001b[0m 25      \u001b[0m | \u001b[0m 0.9919  \u001b[0m | \u001b[0m 0.6692  \u001b[0m | \u001b[0m 3.067   \u001b[0m | \u001b[0m 5.786   \u001b[0m | \u001b[0m 89.99   \u001b[0m |\n",
      "| \u001b[0m 26      \u001b[0m | \u001b[0m 0.9919  \u001b[0m | \u001b[0m 0.8195  \u001b[0m | \u001b[0m 3.09    \u001b[0m | \u001b[0m 5.019   \u001b[0m | \u001b[0m 89.98   \u001b[0m |\n",
      "| \u001b[0m 27      \u001b[0m | \u001b[0m 0.9919  \u001b[0m | \u001b[0m 0.6501  \u001b[0m | \u001b[0m 4.861   \u001b[0m | \u001b[0m 5.378   \u001b[0m | \u001b[0m 60.02   \u001b[0m |\n",
      "| \u001b[0m 28      \u001b[0m | \u001b[0m 0.9921  \u001b[0m | \u001b[0m 0.402   \u001b[0m | \u001b[0m 4.512   \u001b[0m | \u001b[0m 6.457   \u001b[0m | \u001b[0m 89.99   \u001b[0m |\n",
      "| \u001b[0m 29      \u001b[0m | \u001b[0m 0.9915  \u001b[0m | \u001b[0m 0.7012  \u001b[0m | \u001b[0m 4.706   \u001b[0m | \u001b[0m 5.002   \u001b[0m | \u001b[0m 60.09   \u001b[0m |\n",
      "| \u001b[0m 30      \u001b[0m | \u001b[0m 0.9921  \u001b[0m | \u001b[0m 0.4051  \u001b[0m | \u001b[0m 3.481   \u001b[0m | \u001b[0m 6.113   \u001b[0m | \u001b[0m 90.0    \u001b[0m |\n",
      "=========================================================================\n"
     ]
    },
    {
     "data": {
      "text/plain": [
       "3.9614618460337323"
      ]
     },
     "execution_count": 50,
     "metadata": {},
     "output_type": "execute_result"
    }
   ],
   "source": [
    "start = time.time()\n",
    "xgBO.maximize(init_points=5,    \n",
    "               n_iter=25,        \n",
    "               )\n",
    "end = time.time()\n",
    "(end-start)/60"
   ]
  },
  {
   "cell_type": "code",
   "execution_count": 51,
   "metadata": {},
   "outputs": [
    {
     "data": {
      "text/plain": [
       "[{'target': 0.9920913877221664,\n",
       "  'params': {'learning_rate': 0.6463538825546296,\n",
       "   'max_depth': 3.610894830698333,\n",
       "   'n_components': 6.897962678393256,\n",
       "   'n_estimators': 86.69566978460425}},\n",
       " {'target': 0.9922391723064656,\n",
       "  'params': {'learning_rate': 0.876539897409502,\n",
       "   'max_depth': 3.696799628611975,\n",
       "   'n_components': 5.485861370481003,\n",
       "   'n_estimators': 77.90267533220103}},\n",
       " {'target': 0.9916684145577015,\n",
       "  'params': {'learning_rate': 0.8573794462595228,\n",
       "   'max_depth': 3.0506478332843594,\n",
       "   'n_components': 6.462232713249772,\n",
       "   'n_estimators': 63.83015386128585}},\n",
       " {'target': 0.9918104708979234,\n",
       "  'params': {'learning_rate': 0.5801552514828627,\n",
       "   'max_depth': 3.0967354155293068,\n",
       "   'n_components': 6.709761560837301,\n",
       "   'n_estimators': 75.36275387145655}},\n",
       " {'target': 0.9913676333341895,\n",
       "  'params': {'learning_rate': 0.6642040332107989,\n",
       "   'max_depth': 4.166269967223274,\n",
       "   'n_components': 5.541448485085536,\n",
       "   'n_estimators': 89.73967175608936}},\n",
       " {'target': 0.9917987335478549,\n",
       "  'params': {'learning_rate': 0.8495627467559135,\n",
       "   'max_depth': 4.871524726488827,\n",
       "   'n_components': 5.19015673616152,\n",
       "   'n_estimators': 60.02888289470942}},\n",
       " {'target': 0.992824739403078,\n",
       "  'params': {'learning_rate': 0.7456472128586225,\n",
       "   'max_depth': 4.828058120931247,\n",
       "   'n_components': 6.785198652082675,\n",
       "   'n_estimators': 60.031339523919}},\n",
       " {'target': 0.9920961874195093,\n",
       "  'params': {'learning_rate': 0.446549471269119,\n",
       "   'max_depth': 3.184861344793788,\n",
       "   'n_components': 5.2473627721085645,\n",
       "   'n_estimators': 60.00064004140878}},\n",
       " {'target': 0.9918010471590275,\n",
       "  'params': {'learning_rate': 0.3995290990722534,\n",
       "   'max_depth': 4.363308888075583,\n",
       "   'n_components': 5.7076371625445805,\n",
       "   'n_estimators': 89.98668496764402}},\n",
       " {'target': 0.9931240765716862,\n",
       "  'params': {'learning_rate': 0.8402829324641932,\n",
       "   'max_depth': 3.231330897734291,\n",
       "   'n_components': 6.911408231009479,\n",
       "   'n_estimators': 60.0062880774019}},\n",
       " {'target': 0.9916482856302287,\n",
       "  'params': {'learning_rate': 0.6471095668378071,\n",
       "   'max_depth': 4.998590232712587,\n",
       "   'n_components': 6.8844498345564125,\n",
       "   'n_estimators': 60.0742702098399}},\n",
       " {'target': 0.9917959014361251,\n",
       "  'params': {'learning_rate': 0.6993696512442802,\n",
       "   'max_depth': 4.93999855814547,\n",
       "   'n_components': 6.995029067094778,\n",
       "   'n_estimators': 89.93795277269234}},\n",
       " {'target': 0.9913639454301131,\n",
       "  'params': {'learning_rate': 0.41243189301293104,\n",
       "   'max_depth': 3.0829422187787374,\n",
       "   'n_components': 6.923803143799782,\n",
       "   'n_estimators': 60.017319130225154}},\n",
       " {'target': 0.9925319123533041,\n",
       "  'params': {'learning_rate': 0.8073578126452092,\n",
       "   'max_depth': 4.343699899631978,\n",
       "   'n_components': 6.793693610094957,\n",
       "   'n_estimators': 89.95593597690171}},\n",
       " {'target': 0.9917984768599883,\n",
       "  'params': {'learning_rate': 0.8129246177025311,\n",
       "   'max_depth': 3.5560996963506017,\n",
       "   'n_components': 5.014783818666828,\n",
       "   'n_estimators': 89.99129585794682}},\n",
       " {'target': 0.9918033636828347,\n",
       "  'params': {'learning_rate': 0.7942814687132721,\n",
       "   'max_depth': 4.688213484381419,\n",
       "   'n_components': 5.725990846891913,\n",
       "   'n_estimators': 60.05494463134746}},\n",
       " {'target': 0.9922413159057396,\n",
       "  'params': {'learning_rate': 0.6331836235172359,\n",
       "   'max_depth': 4.878014795161384,\n",
       "   'n_components': 6.171757395554318,\n",
       "   'n_estimators': 60.02165645379564}},\n",
       " {'target': 0.9916629457352136,\n",
       "  'params': {'learning_rate': 0.44370212430013317,\n",
       "   'max_depth': 3.2083328456907374,\n",
       "   'n_components': 6.40089553081345,\n",
       "   'n_estimators': 89.9254190651355}},\n",
       " {'target': 0.992091388400703,\n",
       "  'params': {'learning_rate': 0.6199009191106823,\n",
       "   'max_depth': 4.769372707541007,\n",
       "   'n_components': 5.637357132080343,\n",
       "   'n_estimators': 60.02735051563059}},\n",
       " {'target': 0.9915080527086384,\n",
       "  'params': {'learning_rate': 0.7093878684015659,\n",
       "   'max_depth': 3.4947276876289317,\n",
       "   'n_components': 5.1274862853624,\n",
       "   'n_estimators': 60.0120224422647}},\n",
       " {'target': 0.9919510416072318,\n",
       "  'params': {'learning_rate': 0.34333406746187456,\n",
       "   'max_depth': 3.147411775873061,\n",
       "   'n_components': 6.9245516446294655,\n",
       "   'n_estimators': 89.98571266582053}},\n",
       " {'target': 0.9915055653192736,\n",
       "  'params': {'learning_rate': 0.836073277275184,\n",
       "   'max_depth': 4.557374237072056,\n",
       "   'n_components': 6.315116765506712,\n",
       "   'n_estimators': 60.031158709561666}},\n",
       " {'target': 0.9923820685613829,\n",
       "  'params': {'learning_rate': 0.7323235424192298,\n",
       "   'max_depth': 3.941026445211281,\n",
       "   'n_components': 6.987584443627311,\n",
       "   'n_estimators': 89.9921411218619}},\n",
       " {'target': 0.9923842999414176,\n",
       "  'params': {'learning_rate': 0.4915744643065858,\n",
       "   'max_depth': 4.751456304510035,\n",
       "   'n_components': 6.2682777917929275,\n",
       "   'n_estimators': 89.95756105650915}},\n",
       " {'target': 0.9919481444386135,\n",
       "  'params': {'learning_rate': 0.6691816240552269,\n",
       "   'max_depth': 3.0674468452252808,\n",
       "   'n_components': 5.785632226740013,\n",
       "   'n_estimators': 89.99004659036277}},\n",
       " {'target': 0.99194840574542,\n",
       "  'params': {'learning_rate': 0.8195063816944332,\n",
       "   'max_depth': 3.089706417872647,\n",
       "   'n_components': 5.0189326741462414,\n",
       "   'n_estimators': 89.98228002420596}},\n",
       " {'target': 0.9919462620970751,\n",
       "  'params': {'learning_rate': 0.6501327733734328,\n",
       "   'max_depth': 4.861487258306949,\n",
       "   'n_components': 5.378409983778541,\n",
       "   'n_estimators': 60.0202853903153}},\n",
       " {'target': 0.9920913822938697,\n",
       "  'params': {'learning_rate': 0.40204388132514435,\n",
       "   'max_depth': 4.511676792913592,\n",
       "   'n_components': 6.456857257220452,\n",
       "   'n_estimators': 89.98969026742539}},\n",
       " {'target': 0.9915131080394057,\n",
       "  'params': {'learning_rate': 0.7012324713063123,\n",
       "   'max_depth': 4.706435983224637,\n",
       "   'n_components': 5.001751601243136,\n",
       "   'n_estimators': 60.085527240648624}},\n",
       " {'target': 0.9920986717495077,\n",
       "  'params': {'learning_rate': 0.4050617431568197,\n",
       "   'max_depth': 3.4811497627865076,\n",
       "   'n_components': 6.112873672329881,\n",
       "   'n_estimators': 89.99744056566482}}]"
      ]
     },
     "execution_count": 51,
     "metadata": {},
     "output_type": "execute_result"
    }
   ],
   "source": [
    "#Results\n",
    "xgBO.res"
   ]
  },
  {
   "cell_type": "code",
   "execution_count": 52,
   "metadata": {},
   "outputs": [
    {
     "data": {
      "text/plain": [
       "{'target': 0.9931240765716862,\n",
       " 'params': {'learning_rate': 0.8402829324641932,\n",
       "  'max_depth': 3.231330897734291,\n",
       "  'n_components': 6.911408231009479,\n",
       "  'n_estimators': 60.0062880774019}}"
      ]
     },
     "execution_count": 52,
     "metadata": {},
     "output_type": "execute_result"
    }
   ],
   "source": [
    "#Best parametrs in maximizing the objective:\n",
    "xgBO.max"
   ]
  },
  {
   "cell_type": "code",
   "execution_count": 53,
   "metadata": {},
   "outputs": [
    {
     "name": "stdout",
     "output_type": "stream",
     "text": [
      "0.9931240765716862\n",
      "{'learning_rate': 0.8402829324641932, 'max_depth': 3.231330897734291, 'n_components': 6.911408231009479, 'n_estimators': 60.0062880774019}\n"
     ]
    }
   ],
   "source": [
    "for features in xgBO.max.values():\n",
    "        print(features)"
   ]
  },
  {
   "cell_type": "code",
   "execution_count": 54,
   "metadata": {},
   "outputs": [
    {
     "data": {
      "text/plain": [
       "([0, 1, 2, 3], <a list of 4 Text xticklabel objects>)"
      ]
     },
     "execution_count": 54,
     "metadata": {},
     "output_type": "execute_result"
    },
    {
     "data": {
      "image/png": "[encoded data removed]",
      "text/plain": [
       "<Figure size 432x288 with 1 Axes>"
      ]
     },
     "metadata": {},
     "output_type": "display_data"
    }
   ],
   "source": [
    "plt.bar(features.keys(), features.values())\n",
    "plt.xticks(rotation=50)"
   ]
  },
  {
   "cell_type": "markdown",
   "metadata": {},
   "source": [
    "Fitting parameters in model"
   ]
  },
  {
   "cell_type": "code",
   "execution_count": 55,
   "metadata": {},
   "outputs": [],
   "source": [
    "# Model with parameters of grid search\n",
    "model_gs = XGBClassifier(\n",
    "                    learning_rate = clf.best_params_['xg__learning_rate'],\n",
    "                    max_depth = clf.best_params_['xg__max_depth'],\n",
    "                    n_estimators=clf.best_params_['xg__n_estimators']\n",
    "                    )\n",
    "\n",
    "#  Model with parameters of random search\n",
    "model_rs = XGBClassifier(\n",
    "                    learning_rate = rs.best_params_['xg__learning_rate'],\n",
    "                    max_depth = rs.best_params_['xg__max_depth'],\n",
    "                    n_estimators=rs.best_params_['xg__n_estimators']\n",
    "                    )\n",
    "\n",
    "#  Model with parameters of Bayesian Optimization\n",
    "model_bo = XGBClassifier(\n",
    "                    learning_rate = xgBO.max['params']['learning_rate'],\n",
    "                    max_depth = int(xgBO.max['params']['max_depth']),\n",
    "                    n_estimators= int(xgBO.max['params']['n_estimators'])\n",
    "                    )"
   ]
  },
  {
   "cell_type": "code",
   "execution_count": 56,
   "metadata": {},
   "outputs": [
    {
     "data": {
      "text/plain": [
       "0.012507073084513346"
      ]
     },
     "execution_count": 56,
     "metadata": {},
     "output_type": "execute_result"
    }
   ],
   "source": [
    "start = time.time()\n",
    "model_gs.fit(X_train, y_train)\n",
    "model_rs.fit(X_train, y_train)\n",
    "model_bo.fit(X_train, y_train)\n",
    "end = time.time()\n",
    "(end - start)/60"
   ]
  },
  {
   "cell_type": "code",
   "execution_count": 57,
   "metadata": {},
   "outputs": [],
   "source": [
    "# Predictions with all the models\n",
    "y_pred_gs = model_gs.predict(X_test)\n",
    "y_pred_rs = model_rs.predict(X_test)\n",
    "y_pred_bo = model_bo.predict(X_test)"
   ]
  },
  {
   "cell_type": "code",
   "execution_count": 58,
   "metadata": {},
   "outputs": [
    {
     "name": "stdout",
     "output_type": "stream",
     "text": [
      "Accuracy by Grid Search           =  0.9963898916967509\n",
      "Accuracy by Random Search         =  0.9927797833935018\n",
      "Accuracy by Bayesian Optimization =  0.9963898916967509\n"
     ]
    }
   ],
   "source": [
    "# Accuracy of all the models\n",
    "accuracy_gs = accuracy_score(y_test, y_pred_gs)\n",
    "accuracy_rs = accuracy_score(y_test, y_pred_rs)\n",
    "accuracy_bo = accuracy_score(y_test, y_pred_bo)\n",
    "print(\"Accuracy by Grid Search           = \",accuracy_gs)\n",
    "print(\"Accuracy by Random Search         = \",accuracy_rs)\n",
    "print(\"Accuracy by Bayesian Optimization = \",accuracy_bo)"
   ]
  },
  {
   "cell_type": "code",
   "execution_count": 59,
   "metadata": {},
   "outputs": [
    {
     "data": {
      "text/plain": [
       "<matplotlib.axes._subplots.AxesSubplot at 0x7f19dd3a4160>"
      ]
     },
     "execution_count": 59,
     "metadata": {},
     "output_type": "execute_result"
    },
    {
     "data": {
      "image/png": "[encoded data removed]",
      "text/plain": [
       "<Figure size 432x288 with 1 Axes>"
      ]
     },
     "metadata": {},
     "output_type": "display_data"
    },
    {
     "data": {
      "image/png": "[encoded data removed]",
      "text/plain": [
       "<Figure size 432x288 with 1 Axes>"
      ]
     },
     "metadata": {},
     "output_type": "display_data"
    },
    {
     "data": {
      "image/png": "[encoded data removed]",
      "text/plain": [
       "<Figure size 432x288 with 1 Axes>"
      ]
     },
     "metadata": {},
     "output_type": "display_data"
    }
   ],
   "source": [
    "# Get feature importances from all the models\n",
    "model_gs.feature_importances_\n",
    "model_rs.feature_importances_\n",
    "model_bo.feature_importances_\n",
    "plot_importance(model_gs)\n",
    "plot_importance(model_rs)\n",
    "plot_importance(model_bo)"
   ]
  },
  {
   "cell_type": "markdown",
   "metadata": {},
   "source": [
    "# Confusion matrix for all the models"
   ]
  },
  {
   "cell_type": "code",
   "execution_count": 60,
   "metadata": {},
   "outputs": [
    {
     "data": {
      "text/plain": [
       "array([[ 479,    4],\n",
       "       [   3, 1453]])"
      ]
     },
     "execution_count": 60,
     "metadata": {},
     "output_type": "execute_result"
    }
   ],
   "source": [
    "#Confusion Matrix for Grid Search model\n",
    "confusion_matrix(y_test,y_pred_gs)"
   ]
  },
  {
   "cell_type": "code",
   "execution_count": 61,
   "metadata": {},
   "outputs": [
    {
     "data": {
      "text/plain": [
       "array([[ 473,   10],\n",
       "       [   4, 1452]])"
      ]
     },
     "execution_count": 61,
     "metadata": {},
     "output_type": "execute_result"
    }
   ],
   "source": [
    "#Confusion Matrix for Random Search model\n",
    "confusion_matrix(y_test,y_pred_rs)"
   ]
  },
  {
   "cell_type": "code",
   "execution_count": 62,
   "metadata": {},
   "outputs": [
    {
     "data": {
      "text/plain": [
       "array([[ 479,    4],\n",
       "       [   3, 1453]])"
      ]
     },
     "execution_count": 62,
     "metadata": {},
     "output_type": "execute_result"
    }
   ],
   "source": [
    "#Confusion Matrix for Bayesian Optimization model\n",
    "confusion_matrix(y_test,y_pred_bo)"
   ]
  },
  {
   "cell_type": "code",
   "execution_count": 63,
   "metadata": {},
   "outputs": [],
   "source": [
    "# Get probability of occurrence of each class\n",
    "y_pred_prob_gs = model_gs.predict_proba(X_test)\n",
    "y_pred_prob_rs = model_rs.predict_proba(X_test)\n",
    "y_pred_prob_bo = model_bo.predict_proba(X_test)"
   ]
  },
  {
   "cell_type": "markdown",
   "metadata": {},
   "source": [
    "# Draw ROC curve"
   ]
  },
  {
   "cell_type": "code",
   "execution_count": 64,
   "metadata": {},
   "outputs": [],
   "source": [
    "# calculate fpr, tpr values\n",
    "fpr_gs, tpr_gs, thresholds = roc_curve(y_test,\n",
    "                                 y_pred_prob_gs[: , 1],\n",
    "                                 pos_label= 1\n",
    "                                 )\n",
    "\n",
    "fpr_rs, tpr_rs, thresholds = roc_curve(y_test,\n",
    "                                 y_pred_prob_rs[: , 1],\n",
    "                                 pos_label= 1\n",
    "                                 )\n",
    "\n",
    "fpr_bo, tpr_bo, thresholds = roc_curve(y_test,\n",
    "                                 y_pred_prob_bo[: , 1],\n",
    "                                 pos_label= 1\n",
    "                                 )\n",
    "\n"
   ]
  },
  {
   "cell_type": "code",
   "execution_count": 65,
   "metadata": {},
   "outputs": [
    {
     "data": {
      "image/png": "[encoded data removed]",
      "text/plain": [
       "<Figure size 864x720 with 1 Axes>"
      ]
     },
     "metadata": {},
     "output_type": "display_data"
    }
   ],
   "source": [
    "fig = plt.figure(figsize=(12,10))  \n",
    "ax = fig.add_subplot(111)   # Create axes\n",
    "\n",
    "#Connect diagonals\n",
    "ax.plot([0, 1], [0, 1], ls=\"--\")  \n",
    "\n",
    "#Labels \n",
    "ax.set_xlabel('False Positive Rate')  \n",
    "ax.set_ylabel('True Positive Rate')\n",
    "ax.set_title('ROC curve for models')\n",
    "\n",
    "#Set graph limits\n",
    "ax.set_xlim([0.0, 1.0])\n",
    "ax.set_ylim([0.0, 1.0])\n",
    "\n",
    "#Plot each graph now\n",
    "ax.plot(fpr_gs, tpr_gs, label = \"gs\")\n",
    "ax.plot(fpr_rs, tpr_rs, label = \"rs\")\n",
    "ax.plot(fpr_bo, tpr_bo, label = \"bo\")\n",
    "\n",
    "\n",
    "#Set legend and show plot\n",
    "ax.legend(loc=\"lower right\")\n",
    "plt.show()\n"
   ]
  },
  {
   "cell_type": "code",
   "execution_count": 66,
   "metadata": {},
   "outputs": [],
   "source": [
    "# Calculate AUC\n",
    "auc_gs = auc(fpr_gs,tpr_gs)\n",
    "auc_rs = auc(fpr_rs,tpr_rs)\n",
    "auc_bo = auc(fpr_bo,tpr_bo)"
   ]
  },
  {
   "cell_type": "code",
   "execution_count": 67,
   "metadata": {},
   "outputs": [],
   "source": [
    "#Calculate Precision, Recall and F1 Score\n",
    "from sklearn.metrics import precision_recall_fscore_support\n",
    "precision_gs,recall_gs,f1_gs,_ = precision_recall_fscore_support(y_test,y_pred_gs)\n",
    "precision_rs,recall_rs,f1_rs,_ = precision_recall_fscore_support(y_test,y_pred_rs)\n",
    "precision_bo,recall_bo,f1_bo,_ = precision_recall_fscore_support(y_test,y_pred_bo)"
   ]
  },
  {
   "cell_type": "markdown",
   "metadata": {},
   "source": [
    "# Performance Comparision of all models"
   ]
  },
  {
   "cell_type": "code",
   "execution_count": 68,
   "metadata": {},
   "outputs": [
    {
     "data": {
      "text/html": [
       "<div>\n",
       "<style scoped>\n",
       "    .dataframe tbody tr th:only-of-type {\n",
       "        vertical-align: middle;\n",
       "    }\n",
       "\n",
       "    .dataframe tbody tr th {\n",
       "        vertical-align: top;\n",
       "    }\n",
       "\n",
       "    .dataframe thead th {\n",
       "        text-align: right;\n",
       "    }\n",
       "</style>\n",
       "<table border=\"1\" class=\"dataframe\">\n",
       "  <thead>\n",
       "    <tr style=\"text-align: right;\">\n",
       "      <th></th>\n",
       "      <th>Classifiers</th>\n",
       "      <th>Accuracy</th>\n",
       "      <th>Precision</th>\n",
       "      <th>Recall</th>\n",
       "      <th>f1_score</th>\n",
       "      <th>AUC</th>\n",
       "    </tr>\n",
       "  </thead>\n",
       "  <tbody>\n",
       "    <tr>\n",
       "      <th>0</th>\n",
       "      <td>Grid Search</td>\n",
       "      <td>0.99639</td>\n",
       "      <td>[0.9937759336099585, 0.997254632807138]</td>\n",
       "      <td>[0.9917184265010351, 0.9979395604395604]</td>\n",
       "      <td>[0.9927461139896373, 0.997596979059389]</td>\n",
       "      <td>0.998329</td>\n",
       "    </tr>\n",
       "    <tr>\n",
       "      <th>1</th>\n",
       "      <td>Random Search</td>\n",
       "      <td>0.99278</td>\n",
       "      <td>[0.9916142557651991, 0.9931600547195623]</td>\n",
       "      <td>[0.979296066252588, 0.9972527472527473]</td>\n",
       "      <td>[0.9854166666666667, 0.9952021932830706]</td>\n",
       "      <td>0.997811</td>\n",
       "    </tr>\n",
       "    <tr>\n",
       "      <th>2</th>\n",
       "      <td>Bayesian Optimization</td>\n",
       "      <td>0.99639</td>\n",
       "      <td>[0.9937759336099585, 0.997254632807138]</td>\n",
       "      <td>[0.9917184265010351, 0.9979395604395604]</td>\n",
       "      <td>[0.9927461139896373, 0.997596979059389]</td>\n",
       "      <td>0.998488</td>\n",
       "    </tr>\n",
       "  </tbody>\n",
       "</table>\n",
       "</div>"
      ],
      "text/plain": [
       "             Classifiers  Accuracy                                 Precision  \\\n",
       "0            Grid Search   0.99639   [0.9937759336099585, 0.997254632807138]   \n",
       "1          Random Search   0.99278  [0.9916142557651991, 0.9931600547195623]   \n",
       "2  Bayesian Optimization   0.99639   [0.9937759336099585, 0.997254632807138]   \n",
       "\n",
       "                                     Recall  \\\n",
       "0  [0.9917184265010351, 0.9979395604395604]   \n",
       "1   [0.979296066252588, 0.9972527472527473]   \n",
       "2  [0.9917184265010351, 0.9979395604395604]   \n",
       "\n",
       "                                   f1_score       AUC  \n",
       "0   [0.9927461139896373, 0.997596979059389]  0.998329  \n",
       "1  [0.9854166666666667, 0.9952021932830706]  0.997811  \n",
       "2   [0.9927461139896373, 0.997596979059389]  0.998488  "
      ]
     },
     "execution_count": 68,
     "metadata": {},
     "output_type": "execute_result"
    }
   ],
   "source": [
    "pc = pd.DataFrame({ \"Classifiers\":[\"Grid Search\",\"Random Search\",'Bayesian Optimization'],\n",
    "                             \"Accuracy\": [accuracy_gs,accuracy_rs,accuracy_bo],\n",
    "                             \"Precision\": [precision_gs,precision_rs,precision_bo],\n",
    "                             \"Recall\":[recall_gs,recall_rs,recall_bo],\n",
    "                             \"f1_score\":[f1_gs,f1_rs,f1_bo],\n",
    "                             \"AUC\":[auc_gs,auc_rs,auc_bo]})\n",
    "pc"
   ]
  }
 ],
 "metadata": {},
 "nbformat": 4,
 "nbformat_minor": 1
}
